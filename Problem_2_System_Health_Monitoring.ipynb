{
  "nbformat": 4,
  "nbformat_minor": 0,
  "metadata": {
    "colab": {
      "provenance": [],
      "authorship_tag": "ABX9TyPuaTBomn/AuqsQ8hKvvSeH",
      "include_colab_link": true
    },
    "kernelspec": {
      "name": "python3",
      "display_name": "Python 3"
    },
    "language_info": {
      "name": "python"
    }
  },
  "cells": [
    {
      "cell_type": "markdown",
      "metadata": {
        "id": "view-in-github",
        "colab_type": "text"
      },
      "source": [
        "<a href=\"https://colab.research.google.com/github/Prachi2629/Accuknox-QA/blob/main/Problem_2_System_Health_Monitoring.ipynb\" target=\"_parent\"><img src=\"https://colab.research.google.com/assets/colab-badge.svg\" alt=\"Open In Colab\"/></a>"
      ]
    },
    {
      "cell_type": "code",
      "source": [
        "!git clone https://github.com/Prachi2629/Accuknox-QA.git"
      ],
      "metadata": {
        "id": "QUrtoWsPkqDn"
      },
      "execution_count": null,
      "outputs": []
    },
    {
      "cell_type": "code",
      "source": [
        "import psutil"
      ],
      "metadata": {
        "id": "eE50vvA_MJIA"
      },
      "execution_count": null,
      "outputs": []
    },
    {
      "cell_type": "code",
      "source": [
        "import logging"
      ],
      "metadata": {
        "id": "j12PG4Y3M_Hc"
      },
      "execution_count": null,
      "outputs": []
    },
    {
      "cell_type": "code",
      "source": [
        "# Setting up\n",
        "logging.basicConfig(filename='system_health.log', level=logging.INFO, format='%(asctime)s - %(message)s')\n",
        "console = logging.StreamHandler()\n",
        "console.setLevel(logging.INFO)\n",
        "logging.getLogger().addHandler(console)"
      ],
      "metadata": {
        "id": "qsuzNwSINGq0"
      },
      "execution_count": null,
      "outputs": []
    },
    {
      "cell_type": "code",
      "source": [
        "# Thresholds in percentage\n",
        "CPU_THRESHOLD = 80\n",
        "MEMORY_THRESHOLD = 80\n",
        "DISK_THRESHOLD = 90\n",
        "# Number of processes\n",
        "PROCESS_THRESHOLD = 200\n"
      ],
      "metadata": {
        "id": "ydYPUkQBNYk0"
      },
      "execution_count": null,
      "outputs": []
    },
    {
      "cell_type": "code",
      "source": [
        "def check_cpu():\n",
        "    cpu_usage = psutil.cpu_percent(interval=1)\n",
        "    if cpu_usage > CPU_THRESHOLD:\n",
        "        logging.warning(f\"High CPU Usage: {cpu_usage}%\")"
      ],
      "metadata": {
        "id": "m3eSItH_Nrc4"
      },
      "execution_count": null,
      "outputs": []
    },
    {
      "cell_type": "code",
      "source": [
        "def check_memory():\n",
        "    memory_info = psutil.virtual_memory()\n",
        "    if memory_info.percent > MEMORY_THRESHOLD:\n",
        "        logging.warning(f\"High Memory Usage: {memory_info.percent}%\")"
      ],
      "metadata": {
        "id": "tpmB8grFNzX4"
      },
      "execution_count": null,
      "outputs": []
    },
    {
      "cell_type": "code",
      "source": [
        "def check_disk():\n",
        "    disk_info = psutil.disk_usage('/')\n",
        "    if disk_info.percent > DISK_THRESHOLD:\n",
        "        logging.warning(f\"Low Disk Space: {disk_info.percent}% used\")"
      ],
      "metadata": {
        "id": "IMq1B3vFN1L4"
      },
      "execution_count": null,
      "outputs": []
    },
    {
      "cell_type": "code",
      "source": [
        "def check_processes():\n",
        "    num_processes = len(psutil.pids())\n",
        "    if num_processes > PROCESS_THRESHOLD:\n",
        "        logging.warning(f\"Too Many Running Processes: {num_processes}\")"
      ],
      "metadata": {
        "id": "UxZP-cPIN_7x"
      },
      "execution_count": null,
      "outputs": []
    },
    {
      "cell_type": "code",
      "source": [
        "if __name__ == \"__main__\":\n",
        "    check_cpu()\n",
        "    check_memory()\n",
        "    check_disk()\n",
        "    check_processes()\n",
        "    logging.info(\"System health check completed.\")"
      ],
      "metadata": {
        "id": "M0DoAdkfMjRH"
      },
      "execution_count": null,
      "outputs": []
    }
  ]
}