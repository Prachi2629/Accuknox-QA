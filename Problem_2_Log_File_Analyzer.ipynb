{
  "nbformat": 4,
  "nbformat_minor": 0,
  "metadata": {
    "colab": {
      "provenance": [],
      "authorship_tag": "ABX9TyNfTBwv9qz2Pk2Lj17w89kI",
      "include_colab_link": true
    },
    "kernelspec": {
      "name": "python3",
      "display_name": "Python 3"
    },
    "language_info": {
      "name": "python"
    }
  },
  "cells": [
    {
      "cell_type": "markdown",
      "metadata": {
        "id": "view-in-github",
        "colab_type": "text"
      },
      "source": [
        "<a href=\"https://colab.research.google.com/github/Prachi2629/Accuknox-QA/blob/main/Problem_2_Log_File_Analyzer.ipynb\" target=\"_parent\"><img src=\"https://colab.research.google.com/assets/colab-badge.svg\" alt=\"Open In Colab\"/></a>"
      ]
    },
    {
      "cell_type": "code",
      "execution_count": null,
      "metadata": {
        "id": "HmpsCAUxQuaS"
      },
      "outputs": [],
      "source": [
        "import re"
      ]
    },
    {
      "cell_type": "code",
      "source": [
        "from collections import Counter"
      ],
      "metadata": {
        "id": "QgWh7C57R7Q-"
      },
      "execution_count": null,
      "outputs": []
    },
    {
      "cell_type": "code",
      "source": [
        "# log file path\n",
        "log_file = \"file-name.log\"\n",
        "try:\n",
        "    with open(log_file, 'r') as f:\n",
        "        log_data = f.readlines()\n",
        "except FileNotFoundError:\n",
        "    print(f\"Error: File '{log_file}' not found. Please check the file name and path.\")\n",
        "\n"
      ],
      "metadata": {
        "colab": {
          "base_uri": "https://localhost:8080/"
        },
        "id": "h9PYpE8ISJ2k",
        "outputId": "15663c0d-29e1-4708-bba6-236a0d031fc2"
      },
      "execution_count": null,
      "outputs": [
        {
          "output_type": "stream",
          "name": "stdout",
          "text": [
            "Error: File 'file-name.log' not found. Please check the file name and path.\n"
          ]
        }
      ]
    },
    {
      "cell_type": "code",
      "source": [
        "#define to parse and analyze the log file\n",
        "def analyze_logs(log_file):\n",
        "    with open(log_file, 'r') as f:\n",
        "        log_data = f.readlines()"
      ],
      "metadata": {
        "id": "q0c0M5s8SVdg"
      },
      "execution_count": null,
      "outputs": []
    },
    {
      "cell_type": "code",
      "source": [
        "# Regular expression\n",
        "ip_pattern = re.compile(r'(\\d{1,3}\\.){3}\\d{1,3}')\n",
        "status_pattern = re.compile(r'\\s(\\d{3})\\s')\n",
        "url_pattern = re.compile(r'\\\"(?:GET|POST)\\s(.*?)\\s')"
      ],
      "metadata": {
        "id": "K5ptzavKStbR"
      },
      "execution_count": null,
      "outputs": []
    },
    {
      "cell_type": "code",
      "source": [
        "ips = []\n",
        "status_codes = []\n",
        "urls = []"
      ],
      "metadata": {
        "id": "n68k9ENETMyF"
      },
      "execution_count": null,
      "outputs": []
    },
    {
      "cell_type": "code",
      "source": [
        "# Iterate each line\n",
        "for line in log_data:\n",
        "   ip_match = ip_pattern.search(line)\n",
        "   status_match = status_pattern.search(line)\n",
        "   url_match = url_pattern.search(line)\n",
        "        if ip_match:\n",
        "          ips.append(ip_match.group())\n",
        "        if status_match:\n",
        "          status_codes.append(status_match.group().strip())\n",
        "        if url_match:\n",
        "          urls.append(url_match.group(1))\n",
        "    return ips, status_codes, urls"
      ],
      "metadata": {
        "colab": {
          "base_uri": "https://localhost:8080/",
          "height": 211
        },
        "id": "OTeIgu_QTXYk",
        "outputId": "56be03b2-9bd4-4e9a-a6f6-61201ab3fa8d"
      },
      "execution_count": null,
      "outputs": [
        {
          "output_type": "error",
          "ename": "NameError",
          "evalue": "name 'log_data' is not defined",
          "traceback": [
            "\u001b[0;31m---------------------------------------------------------------------------\u001b[0m",
            "\u001b[0;31mNameError\u001b[0m                                 Traceback (most recent call last)",
            "\u001b[0;32m<ipython-input-12-c3259bcffcca>\u001b[0m in \u001b[0;36m<cell line: 1>\u001b[0;34m()\u001b[0m\n\u001b[0;32m----> 1\u001b[0;31m \u001b[0;32mfor\u001b[0m \u001b[0mline\u001b[0m \u001b[0;32min\u001b[0m \u001b[0mlog_data\u001b[0m\u001b[0;34m:\u001b[0m\u001b[0;34m\u001b[0m\u001b[0;34m\u001b[0m\u001b[0m\n\u001b[0m\u001b[1;32m      2\u001b[0m    \u001b[0mip_match\u001b[0m \u001b[0;34m=\u001b[0m \u001b[0mip_pattern\u001b[0m\u001b[0;34m.\u001b[0m\u001b[0msearch\u001b[0m\u001b[0;34m(\u001b[0m\u001b[0mline\u001b[0m\u001b[0;34m)\u001b[0m\u001b[0;34m\u001b[0m\u001b[0;34m\u001b[0m\u001b[0m\n\u001b[1;32m      3\u001b[0m    \u001b[0mstatus_match\u001b[0m \u001b[0;34m=\u001b[0m \u001b[0mstatus_pattern\u001b[0m\u001b[0;34m.\u001b[0m\u001b[0msearch\u001b[0m\u001b[0;34m(\u001b[0m\u001b[0mline\u001b[0m\u001b[0;34m)\u001b[0m\u001b[0;34m\u001b[0m\u001b[0;34m\u001b[0m\u001b[0m\n\u001b[1;32m      4\u001b[0m    \u001b[0murl_match\u001b[0m \u001b[0;34m=\u001b[0m \u001b[0murl_pattern\u001b[0m\u001b[0;34m.\u001b[0m\u001b[0msearch\u001b[0m\u001b[0;34m(\u001b[0m\u001b[0mline\u001b[0m\u001b[0;34m)\u001b[0m\u001b[0;34m\u001b[0m\u001b[0;34m\u001b[0m\u001b[0m\n\u001b[1;32m      5\u001b[0m \u001b[0;34m\u001b[0m\u001b[0m\n",
            "\u001b[0;31mNameError\u001b[0m: name 'log_data' is not defined"
          ]
        }
      ]
    },
    {
      "cell_type": "code",
      "source": [
        "# To print the analysis report\n",
        "def report_analysis(ips, status_codes, urls):\n",
        "    print(\"Top 5 IP addresses:\")\n",
        "    for ip, count in Counter(ips).most_common(5):\n",
        "        print(f\"{ip}: {count} requests\")\n",
        "\n",
        "    print(\"\\nNumber of 404 errors:\", status_codes.count('404'))\n",
        "\n",
        "    print(\"\\nTop 5 Requested Pages:\")\n",
        "    for url, count in Counter(urls).most_common(5):\n",
        "        print(f\"{url}: {count} requests\")\n"
      ],
      "metadata": {
        "id": "GMhViXT2U7ji"
      },
      "execution_count": null,
      "outputs": []
    },
    {
      "cell_type": "code",
      "source": [
        "# Main function to execute the analysis\n",
        "if __name__ == \"__main__\":\n",
        "    ips, status_codes, urls = analyze_logs(LOG_FILE)\n",
        "    report_analysis(ips, status_codes, urls)"
      ],
      "metadata": {
        "colab": {
          "base_uri": "https://localhost:8080/",
          "height": 280
        },
        "id": "3ElBmYi9VFQC",
        "outputId": "685a2f79-5897-42c3-93dc-73fe4d2ec65c"
      },
      "execution_count": null,
      "outputs": [
        {
          "output_type": "error",
          "ename": "FileNotFoundError",
          "evalue": "[Errno 2] No such file or directory: 'file-name.log'",
          "traceback": [
            "\u001b[0;31m---------------------------------------------------------------------------\u001b[0m",
            "\u001b[0;31mFileNotFoundError\u001b[0m                         Traceback (most recent call last)",
            "\u001b[0;32m<ipython-input-14-71f3afd9b213>\u001b[0m in \u001b[0;36m<cell line: 1>\u001b[0;34m()\u001b[0m\n\u001b[1;32m      1\u001b[0m \u001b[0;32mif\u001b[0m \u001b[0m__name__\u001b[0m \u001b[0;34m==\u001b[0m \u001b[0;34m\"__main__\"\u001b[0m\u001b[0;34m:\u001b[0m\u001b[0;34m\u001b[0m\u001b[0;34m\u001b[0m\u001b[0m\n\u001b[0;32m----> 2\u001b[0;31m     \u001b[0mips\u001b[0m\u001b[0;34m,\u001b[0m \u001b[0mstatus_codes\u001b[0m\u001b[0;34m,\u001b[0m \u001b[0murls\u001b[0m \u001b[0;34m=\u001b[0m \u001b[0manalyze_logs\u001b[0m\u001b[0;34m(\u001b[0m\u001b[0mLOG_FILE\u001b[0m\u001b[0;34m)\u001b[0m\u001b[0;34m\u001b[0m\u001b[0;34m\u001b[0m\u001b[0m\n\u001b[0m\u001b[1;32m      3\u001b[0m     \u001b[0mreport_analysis\u001b[0m\u001b[0;34m(\u001b[0m\u001b[0mips\u001b[0m\u001b[0;34m,\u001b[0m \u001b[0mstatus_codes\u001b[0m\u001b[0;34m,\u001b[0m \u001b[0murls\u001b[0m\u001b[0;34m)\u001b[0m\u001b[0;34m\u001b[0m\u001b[0;34m\u001b[0m\u001b[0m\n",
            "\u001b[0;32m<ipython-input-5-90d469631317>\u001b[0m in \u001b[0;36manalyze_logs\u001b[0;34m(log_file)\u001b[0m\n\u001b[1;32m      1\u001b[0m \u001b[0;31m#define to parse and analyze the log file\u001b[0m\u001b[0;34m\u001b[0m\u001b[0;34m\u001b[0m\u001b[0m\n\u001b[1;32m      2\u001b[0m \u001b[0;32mdef\u001b[0m \u001b[0manalyze_logs\u001b[0m\u001b[0;34m(\u001b[0m\u001b[0mlog_file\u001b[0m\u001b[0;34m)\u001b[0m\u001b[0;34m:\u001b[0m\u001b[0;34m\u001b[0m\u001b[0;34m\u001b[0m\u001b[0m\n\u001b[0;32m----> 3\u001b[0;31m     \u001b[0;32mwith\u001b[0m \u001b[0mopen\u001b[0m\u001b[0;34m(\u001b[0m\u001b[0mlog_file\u001b[0m\u001b[0;34m,\u001b[0m \u001b[0;34m'r'\u001b[0m\u001b[0;34m)\u001b[0m \u001b[0;32mas\u001b[0m \u001b[0mf\u001b[0m\u001b[0;34m:\u001b[0m\u001b[0;34m\u001b[0m\u001b[0;34m\u001b[0m\u001b[0m\n\u001b[0m\u001b[1;32m      4\u001b[0m         \u001b[0mlog_data\u001b[0m \u001b[0;34m=\u001b[0m \u001b[0mf\u001b[0m\u001b[0;34m.\u001b[0m\u001b[0mreadlines\u001b[0m\u001b[0;34m(\u001b[0m\u001b[0;34m)\u001b[0m\u001b[0;34m\u001b[0m\u001b[0;34m\u001b[0m\u001b[0m\n",
            "\u001b[0;31mFileNotFoundError\u001b[0m: [Errno 2] No such file or directory: 'file-name.log'"
          ]
        }
      ]
    }
  ]
}